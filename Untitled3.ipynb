{
 "cells": [
  {
   "cell_type": "code",
   "execution_count": null,
   "id": "a7bac2f2",
   "metadata": {},
   "outputs": [],
   "source": [
    "import pandas as pd\n",
    "from sklearn.model_selection import train_test_split\n",
    "from sklearn.feature_extraction.text import TfidfVectorizer\n",
    "from sklearn.linear_model import LinearRegression\n",
    "from sklearn.pipeline import make_pipeline\n",
    "import tkinter as tk\n",
    "from tkinter import messagebox\n",
    "\n",
    "# Load your COVID-19 tweets dataset\n",
    "df = pd.read_csv('COVID-19_Sentiments.csv')  # Replace 'covid_tweets_dataset.csv' with your actual file name\n",
    "\n",
    "# Drop rows with missing values in the 'Texts' and 'Sentiments' columns\n",
    "df = df.dropna(subset=['Text', 'Sentiments'])\n",
    "\n",
    "# Split the dataset into training and testing sets\n",
    "train_data, test_data = train_test_split(df, test_size=0.2, random_state=42)\n",
    "\n",
    "# Build a sentiment regression model\n",
    "model = make_pipeline(TfidfVectorizer(), LinearRegression())\n",
    "model.fit(train_data['Text'], train_data['Sentiments'])\n",
    "\n",
    "# GUI setup\n",
    "def analyze_sentiment_and_display(keyword):\n",
    "    try:\n",
    "        prediction = model.predict([keyword])[0]\n",
    "        \n",
    "        if prediction < 0.5:\n",
    "            result_message = f\"Predicted Sentiment for '{keyword}': Negative\"\n",
    "        elif prediction > 0.5:\n",
    "            result_message = f\"Predicted Sentiment for '{keyword}': Positive\"\n",
    "        elif prediction==0:\n",
    "            result_message = f\"Predicted Sentiment for '{keyword}': Neutral\"\n",
    "\n",
    "        messagebox.showinfo(\"Sentiment Prediction Result\", str(result_message))\n",
    "    except ValueError:\n",
    "        messagebox.showinfo(\"Error\", \"Error predicting sentiment. Please try again.\")\n",
    "\n",
    "def on_submit():\n",
    "    keyword = entry.get()\n",
    "    if keyword:\n",
    "        analyze_sentiment_and_display(keyword)\n",
    "    else:\n",
    "        messagebox.showinfo(\"Error\", \"Please enter a keyword.\")\n",
    "\n",
    "root = tk.Tk()\n",
    "root.title(\"Sentiment Prediction for COVID-19 Tweets\")\n",
    "\n",
    "label = tk.Label(root, text=\"Enter a keyword to predict sentiment:\")\n",
    "label.pack(pady=10)\n",
    "\n",
    "entry = tk.Entry(root)\n",
    "entry.pack(pady=10)\n",
    "\n",
    "submit_button = tk.Button(root, text=\"Predict Sentiment\", command=on_submit)\n",
    "submit_button.pack(pady=10)\n",
    "\n",
    "root.mainloop()\n",
    " "
   ]
  },
  {
   "cell_type": "code",
   "execution_count": null,
   "id": "85b4c27a",
   "metadata": {},
   "outputs": [],
   "source": []
  },
  {
   "cell_type": "code",
   "execution_count": null,
   "id": "86345911",
   "metadata": {},
   "outputs": [],
   "source": []
  }
 ],
 "metadata": {
  "kernelspec": {
   "display_name": "Python 3 (ipykernel)",
   "language": "python",
   "name": "python3"
  },
  "language_info": {
   "codemirror_mode": {
    "name": "ipython",
    "version": 3
   },
   "file_extension": ".py",
   "mimetype": "text/x-python",
   "name": "python",
   "nbconvert_exporter": "python",
   "pygments_lexer": "ipython3",
   "version": "3.10.9"
  }
 },
 "nbformat": 4,
 "nbformat_minor": 5
}
